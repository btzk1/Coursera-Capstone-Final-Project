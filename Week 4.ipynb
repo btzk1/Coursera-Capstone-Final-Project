{
 "cells": [
  {
   "cell_type": "markdown",
   "metadata": {},
   "source": [
    "   # The Hunt For Chinese Restaurants In New York City\n",
    "\n",
    "\n",
    "\n",
    "\n",
    "Author: *Brandon Tan*\n",
    "\n",
    "## 1. Introduction \n",
    "The purpose of this Project is to combined all the knowledge that we have learnt over the course of this course. For this very specific project we will leverage the Foursquare location API to explore New York City and find all the chinese restaurants around\n",
    "\n",
    "## 2. Business Problem \n",
    "New York City, home to 8.4 million people is one of the most famous and affluent cities in the United States of America. The population density is 27,000 people per square mile, with an area of 468.19 square miles. With such density and wealth, it creates tremendous business opportunity for a kinds of sectors. The food industry is one that is particularly competitive, ultilizing my skills and knowledge for interpreting data my objective is to find all the locations of Chinese Restaurants in NYC to study the competiton. \n",
    "\n",
    "## 3. Project Goal\n",
    "Population density is a key aspect of analyzing data on cities, and it plays an important part in issues such as transport, infrastructure and living standards for residents. Some people prefer a slow pace and less crowded cities with open spaces, while others would rather have the fast pace city life. In New York, not just Pizzerias or Coffee Shops are famous, but also there is fine Michelin starred restaurants with the most diverse type of food. With this diversity of restaurants with different categories like Chinese, Indian, French, Brazilian, etc. So here, the main goal is to find answers to the following questions:\n",
    "\n",
    "- List and visualize all major parts of New York City that has great restaurants.\n",
    "- Where is the best location in NYC for chinese restaurants?\n",
    "- Which areas poses a great potential for a new chinese restaurant business?\n",
    "- Which all areas lack Chinese Resturants?\n",
    "- Which is the best place to stay if you prefer Chinese Food?\n",
    "\n",
    "## 4.Data Understanding \n",
    "\n",
    "New York City's have a collection of restaurants from across the city that defined by a diverse culture with a lot of diverse type of food, each belonging to different categories like Chinese, Indian, French, Brazilian, etc. For this project, we will use an open data as following below: New York City data that contains list Boroughs, Neighborhoods along with their latitude and longitude.\n",
    "\n",
    "- Data set: https://cocl.us/new_york_dataset\n",
    "- Description: This dataset contains information such as Borugh, Neighbourhood, Lat & Long\n",
    "\n",
    "Venues of different restaurant cruisines\n",
    "\n",
    "- Data set: Foursquare API\n",
    "- Description: Foursqaure API allows us to gain access to venues of different resturants, specifically chinese resturants. \n",
    "\n",
    "GeoSpace\n",
    "\n",
    "- Data set : https://data.cityofnewyork.us/City-Government/Borough-Boundaries/tqmj-j8zm\n",
    "Description: By using this geo, space data we will get the New York Borough boundaries that will help us visualize choropleth map.\n",
    "\n",
    "| Borough | Neighborhood | Latitude\t| Longitude |\n",
    "| --- | --- | --- | --- |\n",
    "| Bronx | Wakefield | 40.894705 | -73.847201|\n",
    "| Bronx | Co-op City | 40.874294 | -73.829939|\n",
    "| Bronx |Eastchester | 40.887556 | -73.827806|\n",
    "| Bronx | Fieldston | 40.895437 | -73.905643|\n",
    "| Bronx | Riverdale | 40.890834 | -73.912585|\n",
    "\n",
    "\n"
   ]
  }
 ],
 "metadata": {
  "kernelspec": {
   "display_name": "Python 3",
   "language": "python",
   "name": "python3"
  },
  "language_info": {
   "codemirror_mode": {
    "name": "ipython",
    "version": 3
   },
   "file_extension": ".py",
   "mimetype": "text/x-python",
   "name": "python",
   "nbconvert_exporter": "python",
   "pygments_lexer": "ipython3",
   "version": "3.7.6"
  }
 },
 "nbformat": 4,
 "nbformat_minor": 4
}
